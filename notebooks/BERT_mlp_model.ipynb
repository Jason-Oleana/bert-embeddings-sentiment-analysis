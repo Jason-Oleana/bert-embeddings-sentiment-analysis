{
 "cells": [
  {
   "cell_type": "markdown",
   "metadata": {},
   "source": [
    "# Sentiment Analysis"
   ]
  },
  {
   "attachments": {},
   "cell_type": "markdown",
   "metadata": {},
   "source": [
    "<div>\n",
    "<img src=\"https://i1.wp.com/thedatascientist.com/wp-content/uploads/2018/10/sentiment-analysis.png?ssl=1\" height=\"650\" width=\"650\"/>\n",
    "</div>\n",
    "\n",
    "- Twitter US Airline Sentiment\n",
    "- Analyze how travelers in February 2015 expressed their feelings on Twitter\n",
    "\n",
    "Source: https://www.kaggle.com/crowdflower/twitter-airline-sentiment"
   ]
  },
  {
   "cell_type": "markdown",
   "metadata": {},
   "source": [
    "# Import requirements"
   ]
  },
  {
   "cell_type": "code",
   "execution_count": 1,
   "metadata": {},
   "outputs": [],
   "source": [
    "import os\n",
    "import numpy\n",
    "import csv\n",
    "import re\n",
    "import joblib\n",
    "import matplotlib.pyplot as plt\n",
    "from tqdm import tqdm\n",
    "from transformers import DistilBertTokenizer, TFDistilBertModel\n",
    "from sklearn.model_selection import train_test_split\n",
    "from sklearn.neural_network import MLPClassifier\n",
    "from sklearn.metrics import (accuracy_score, classification_report, \n",
    "                             confusion_matrix, accuracy_score)\n",
    "\n",
    "os.environ['CUDA_VISIBLE_DEVICES'] = '-1'"
   ]
  },
  {
   "cell_type": "markdown",
   "metadata": {},
   "source": [
    "# Load pre-trained BERT model"
   ]
  },
  {
   "cell_type": "code",
   "execution_count": null,
   "metadata": {},
   "outputs": [],
   "source": [
    "tokenizer = DistilBertTokenizer.from_pretrained('distilbert-base-uncased')\n",
    "model = TFDistilBertModel.from_pretrained(\"distilbert-base-uncased\")"
   ]
  },
  {
   "cell_type": "markdown",
   "metadata": {},
   "source": [
    "# Step 1: Open Tweets.csv & extract features and labels"
   ]
  },
  {
   "cell_type": "code",
   "execution_count": null,
   "metadata": {},
   "outputs": [],
   "source": [
    "def tweet_extractor(csv_file, max_num = None):\n",
    "    \"\"\"\n",
    "    input: csv_file csv file\n",
    "    max_num = max number of examples\n",
    "    Takes in a CSV file and extracts tweets and labels\n",
    "    output: 2 arrays (tweets and labels) \n",
    "    \"\"\"\n",
    "    tweets = []\n",
    "    labels = []\n",
    "    # open csv\n",
    "    with open(csv_file, encoding='utf-8') as csv_file:\n",
    "        # read csv file\n",
    "        csv_reader = csv.reader(csv_file, delimiter=',')\n",
    "        try:\n",
    "            # loop in csv\n",
    "            for index, row in enumerate(csv_reader):\n",
    "                # skip first row\n",
    "                if index > 0:\n",
    "                    # extract label\n",
    "                    label = row[1]\n",
    "                    # extract confidence\n",
    "                    sentiment_conf = float(row[2])\n",
    "                    # extract tweet\n",
    "                    tweet = row[10]\n",
    "                    # check if conf is >= 0.80\n",
    "                    if sentiment_conf >= 0.80:\n",
    "                        # append tweets and labels\n",
    "                        tweets.append(tweet)\n",
    "                        labels.append(label)\n",
    "                        \n",
    "                    else:\n",
    "                        # \"low conf\"\n",
    "                        pass\n",
    "                \n",
    "                # break if len tweets == max_num\n",
    "                if len(tweets) == max_num:\n",
    "                    print(\"max examples: {}\".format(len(tweets)))\n",
    "                    break\n",
    "\n",
    "        except Exception as error:\n",
    "            print(\"Exception: {}\".format(error))\n",
    "    \n",
    "    return tweets, labels\n",
    "\n",
    "path_to_dataset = \"../dataset/Tweets.csv\"\n",
    "tweets, labels = tweet_extractor(path_to_dataset, max_num = 1000)"
   ]
  },
  {
   "cell_type": "markdown",
   "metadata": {},
   "source": [
    "# Plot label distribution"
   ]
  },
  {
   "cell_type": "code",
   "execution_count": null,
   "metadata": {},
   "outputs": [],
   "source": [
    "def label_distribution(labels):\n",
    "    \"\"\"\n",
    "    input: array\n",
    "    Takes in an array with labels\n",
    "    output: plot of label distribution \n",
    "    \"\"\"\n",
    "\n",
    "    # get label names and count\n",
    "    label_names, label_dist_count = numpy.unique(labels, return_counts = True)\n",
    "    label_names = label_names.astype(\"str\")\n",
    "\n",
    "    print(label_dist_count)\n",
    "    print(label_names)\n",
    "\n",
    "    fig = plt.figure()\n",
    "    ax = fig.add_axes([0,0,1,1])\n",
    "    ax.set_ylabel('Count')\n",
    "    ax.set_title('Label distribution')\n",
    "    ax.bar(label_names,label_dist_count)\n",
    "    plt.show()\n",
    "\n",
    "label_distribution(labels)"
   ]
  },
  {
   "cell_type": "markdown",
   "metadata": {},
   "source": [
    "# Step 2: Remove duplicates"
   ]
  },
  {
   "cell_type": "code",
   "execution_count": 5,
   "metadata": {},
   "outputs": [],
   "source": [
    "def duplicate_remover(tweets, labels):\n",
    "    \"\"\"\n",
    "    input: array\n",
    "    Takes in 2 arrays containing tweets and labels\n",
    "    and removes duplicated tweets\n",
    "    output: 2 arrays (tweets and labels)\n",
    "    \"\"\"\n",
    "    # index_list = List of all unique indexes in tweets list\n",
    "    __, index_list = numpy.unique(tweets, return_index=True, axis = 0)\n",
    "    \n",
    "    # Set empty lists for unique tweets(tweet + label)\n",
    "    unique_tweets = []\n",
    "    unique_labels = []\n",
    "\n",
    "    for index, (transcript, label) in enumerate(zip(tweets, labels)):\n",
    "\n",
    "        # if index in index_list\n",
    "        if index in index_list:\n",
    "            unique_tweets.append(transcript)\n",
    "            unique_labels.append(label)\n",
    "\n",
    "        else:\n",
    "            pass\n",
    "    \n",
    "    return unique_tweets, unique_labels\n",
    "\n",
    "unique_tweets, unique_labels = duplicate_remover(tweets, labels)"
   ]
  },
  {
   "cell_type": "markdown",
   "metadata": {},
   "source": [
    "# Step 3: Preprocessing\n",
    "- Remove white spaces"
   ]
  },
  {
   "cell_type": "code",
   "execution_count": 6,
   "metadata": {},
   "outputs": [],
   "source": [
    "def processor(unique_tweets_array):\n",
    "    \"\"\"\n",
    "    input: array\n",
    "    Takes in an array with sentences & cleans the sentences\n",
    "    output: array \"\"\"\n",
    "    \n",
    "    clean_tweets_array = []\n",
    "    \n",
    "    for sentence in unique_tweets_array:      \n",
    "        # Remove white spaces\n",
    "        sentence = re.sub(' +', ' ',sentence).strip()\n",
    "        \n",
    "        # Append cleaned sentences\n",
    "        clean_tweets_array.append(sentence)\n",
    "    \n",
    "    return clean_tweets_array\n",
    "\n",
    "unique_tweets = processor(unique_tweets)"
   ]
  },
  {
   "cell_type": "markdown",
   "metadata": {},
   "source": [
    "# Step 4: extract dense features \n",
    "- extract contextual embeddings"
   ]
  },
  {
   "cell_type": "code",
   "execution_count": null,
   "metadata": {},
   "outputs": [],
   "source": [
    "def bert_vectorizer(tweet_list):\n",
    "    \"\"\"\n",
    "    input: array\n",
    "    Takes in an array with sentences \n",
    "    and outputs a vectorized array\n",
    "    output: array \n",
    "    \"\"\"\n",
    "    \n",
    "    # Fit vectorizer\n",
    "    features = []\n",
    "    \n",
    "    for text in (tqdm(tweet_list,\n",
    "                      total = len(tweet_list),\n",
    "                      desc =\"progress\")):\n",
    "        \n",
    "        encoded_input = tokenizer(text, return_tensors='tf')\n",
    "        output = model(encoded_input)[0]\n",
    "        output = output.numpy()[0][0]\n",
    "        features.append(output)\n",
    "\n",
    "    return features\n",
    "\n",
    "train_features = bert_vectorizer(unique_tweets)"
   ]
  },
  {
   "cell_type": "markdown",
   "metadata": {},
   "source": [
    "# Checkpoint "
   ]
  },
  {
   "cell_type": "code",
   "execution_count": null,
   "metadata": {},
   "outputs": [],
   "source": [
    "print(\"shape of train_features: {}\".format(numpy.array(train_features).shape))\n",
    "print(\"example of vectorized training data: {}\".format(train_features[0][:10]))"
   ]
  },
  {
   "cell_type": "markdown",
   "metadata": {},
   "source": [
    "# Step 5: Split data in train and test"
   ]
  },
  {
   "cell_type": "code",
   "execution_count": 9,
   "metadata": {},
   "outputs": [],
   "source": [
    "x_train, x_val, y_train, y_val = train_test_split(train_features, \n",
    "                                                  unique_labels, \n",
    "                                                  test_size = 0.20, \n",
    "                                                  stratify = unique_labels)"
   ]
  },
  {
   "cell_type": "markdown",
   "metadata": {},
   "source": [
    "# Step 6: Classification algorithms"
   ]
  },
  {
   "cell_type": "markdown",
   "metadata": {},
   "source": [
    "# MLP model"
   ]
  },
  {
   "cell_type": "code",
   "execution_count": null,
   "metadata": {},
   "outputs": [],
   "source": [
    "clf = MLPClassifier(verbose=True)\n",
    "clf.fit(x_train,y_train)\n",
    "y_pred = clf.predict(x_val)"
   ]
  },
  {
   "cell_type": "markdown",
   "metadata": {},
   "source": [
    "# Model evaluation"
   ]
  },
  {
   "cell_type": "code",
   "execution_count": null,
   "metadata": {},
   "outputs": [],
   "source": [
    "print(classification_report(y_val,y_pred))\n",
    "print(confusion_matrix(y_val,y_pred))\n",
    "print()\n",
    "print(accuracy_score(y_val,y_pred))"
   ]
  },
  {
   "cell_type": "markdown",
   "metadata": {},
   "source": [
    "# Save model to disk"
   ]
  },
  {
   "cell_type": "code",
   "execution_count": null,
   "metadata": {},
   "outputs": [],
   "source": [
    "path_to_model_dir = \"../models/\"\n",
    "model_filename = 'BERT_MLP_model'\n",
    "\n",
    "def save_to_disk(model_object, path_to_model_dir, filename):\n",
    "    # open joblib\n",
    "    with open(path_to_model_dir + filename + \".joblib\", \"wb\") as file:\n",
    "        # dump object\n",
    "        joblib.dump(model_object, file)\n",
    "\n",
    "# save model \n",
    "save_to_disk(clf, path_to_model_dir, model_filename)\n",
    "\n",
    "print(\"model is successfully saved\")"
   ]
  }
 ],
 "metadata": {
  "kernelspec": {
   "display_name": "Python 3",
   "language": "python",
   "name": "python3"
  },
  "language_info": {
   "codemirror_mode": {
    "name": "ipython",
    "version": 3
   },
   "file_extension": ".py",
   "mimetype": "text/x-python",
   "name": "python",
   "nbconvert_exporter": "python",
   "pygments_lexer": "ipython3",
   "version": "3.7.7"
  }
 },
 "nbformat": 4,
 "nbformat_minor": 4
}
